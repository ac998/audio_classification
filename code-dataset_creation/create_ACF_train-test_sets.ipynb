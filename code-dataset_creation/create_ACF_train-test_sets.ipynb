{
 "cells": [
  {
   "cell_type": "code",
   "execution_count": 2,
   "metadata": {},
   "outputs": [],
   "source": [
    "import numpy as np\n",
    "import os "
   ]
  },
  {
   "cell_type": "code",
   "execution_count": 3,
   "metadata": {},
   "outputs": [
    {
     "name": "stdout",
     "output_type": "stream",
     "text": [
      "[[1 4 7]\n",
      " [2 5 8]\n",
      " [3 6 9]]\n"
     ]
    }
   ],
   "source": [
    "a = np.array([1,2,3])\n",
    "b = np.array([4,5,6])\n",
    "c = np.array([7,8,9])\n",
    "d = np.column_stack((a,b,c))\n",
    "print(d)"
   ]
  },
  {
   "cell_type": "code",
   "execution_count": 3,
   "metadata": {},
   "outputs": [],
   "source": [
    "parent_folder = os.path.join('features','ACF','1hr','clean')\n",
    "feature_types = ['lag', 'peak', 'zcp']"
   ]
  },
  {
   "cell_type": "code",
   "execution_count": 4,
   "metadata": {},
   "outputs": [],
   "source": [
    "music_feature_files = [os.path.join(parent_folder, 'music_'+feat+'.txt') for feat in feature_types]\n",
    "machine_feature_files = [os.path.join(parent_folder, 'machine_'+feat+'.txt') for feat in feature_types]\n",
    "nature_feature_files = [os.path.join(parent_folder, 'nature_'+feat+'.txt') for feat in feature_types]\n",
    "speech_feature_files = [os.path.join(parent_folder, 'speech_'+feat+'.txt') for feat in feature_types]"
   ]
  },
  {
   "cell_type": "code",
   "execution_count": 5,
   "metadata": {},
   "outputs": [
    {
     "name": "stdout",
     "output_type": "stream",
     "text": [
      "['features\\\\ACF\\\\1hr\\\\clean\\\\music_lag.txt', 'features\\\\ACF\\\\1hr\\\\clean\\\\music_peak.txt', 'features\\\\ACF\\\\1hr\\\\clean\\\\music_zcp.txt']\n",
      "(720511,)\n",
      "(720511,)\n",
      "(720511,)\n",
      "(720511, 3)\n"
     ]
    }
   ],
   "source": [
    "print(music_feature_files)\n",
    "mus_lag = np.loadtxt(music_feature_files[0])\n",
    "print(mus_lag.shape)\n",
    "mus_peak = np.loadtxt(music_feature_files[1])\n",
    "print(mus_peak.shape)\n",
    "mus_zcp = np.loadtxt(music_feature_files[2])\n",
    "print(mus_zcp.shape)\n",
    "mus_features = np.column_stack((mus_lag, mus_peak, mus_zcp))\n",
    "print(mus_features.shape)"
   ]
  },
  {
   "cell_type": "code",
   "execution_count": 6,
   "metadata": {},
   "outputs": [
    {
     "name": "stdout",
     "output_type": "stream",
     "text": [
      "['features\\\\ACF\\\\1hr\\\\clean\\\\machine_lag.txt', 'features\\\\ACF\\\\1hr\\\\clean\\\\machine_peak.txt', 'features\\\\ACF\\\\1hr\\\\clean\\\\machine_zcp.txt']\n",
      "(720511,)\n",
      "(720511,)\n",
      "(720511,)\n",
      "(720511, 3)\n"
     ]
    }
   ],
   "source": [
    "print(machine_feature_files)\n",
    "mac_lag = np.loadtxt(machine_feature_files[0])\n",
    "print(mac_lag.shape)\n",
    "mac_peak = np.loadtxt(machine_feature_files[1])\n",
    "print(mac_peak.shape)\n",
    "mac_zcp = np.loadtxt(machine_feature_files[2])\n",
    "print(mac_zcp.shape)\n",
    "mac_features = np.column_stack((mac_lag, mac_peak, mac_zcp))\n",
    "print(mac_features.shape)"
   ]
  },
  {
   "cell_type": "code",
   "execution_count": 7,
   "metadata": {},
   "outputs": [
    {
     "name": "stdout",
     "output_type": "stream",
     "text": [
      "['features\\\\ACF\\\\1hr\\\\clean\\\\nature_lag.txt', 'features\\\\ACF\\\\1hr\\\\clean\\\\nature_peak.txt', 'features\\\\ACF\\\\1hr\\\\clean\\\\nature_zcp.txt']\n",
      "(720511,)\n",
      "(720511,)\n",
      "(720511,)\n",
      "(720511, 3)\n"
     ]
    }
   ],
   "source": [
    "print(nature_feature_files)\n",
    "nat_lag = np.loadtxt(nature_feature_files[0])\n",
    "print(nat_lag.shape)\n",
    "nat_peak = np.loadtxt(nature_feature_files[1])\n",
    "print(nat_peak.shape)\n",
    "nat_zcp = np.loadtxt(nature_feature_files[2])\n",
    "print(nat_zcp.shape)\n",
    "nat_features = np.column_stack((nat_lag, nat_peak, nat_zcp))\n",
    "print(nat_features.shape)"
   ]
  },
  {
   "cell_type": "code",
   "execution_count": 8,
   "metadata": {},
   "outputs": [
    {
     "name": "stdout",
     "output_type": "stream",
     "text": [
      "['features\\\\ACF\\\\1hr\\\\clean\\\\speech_lag.txt', 'features\\\\ACF\\\\1hr\\\\clean\\\\speech_peak.txt', 'features\\\\ACF\\\\1hr\\\\clean\\\\speech_zcp.txt']\n",
      "(755621,)\n",
      "(755621,)\n",
      "(720511,)\n",
      "(755621, 3)\n"
     ]
    }
   ],
   "source": [
    "print(speech_feature_files)\n",
    "spe_lag = np.loadtxt(speech_feature_files[0])\n",
    "print(spe_lag.shape)\n",
    "spe_peak = np.loadtxt(speech_feature_files[1])\n",
    "print(spe_peak.shape)\n",
    "spe_zcp = np.loadtxt(speech_feature_files[2])\n",
    "print(nat_zcp.shape)\n",
    "spe_features = np.column_stack((spe_lag, spe_peak, spe_zcp))\n",
    "print(spe_features.shape)"
   ]
  },
  {
   "cell_type": "code",
   "execution_count": 9,
   "metadata": {},
   "outputs": [
    {
     "name": "stdout",
     "output_type": "stream",
     "text": [
      "720511\n"
     ]
    }
   ],
   "source": [
    "mus_len = mus_lag.shape[0]\n",
    "nat_len = nat_lag.shape[0]\n",
    "spe_len = spe_lag.shape[0]\n",
    "mac_len = mac_lag.shape[0]\n",
    "print(mac_len)"
   ]
  },
  {
   "cell_type": "code",
   "execution_count": null,
   "metadata": {},
   "outputs": [],
   "source": [
    "# mac_labels = np.zeros((mac_len,1), dtype=np.int8)\n",
    "# mus_labels = np.ones((mus_len,1), dtype=np.int8)\n",
    "# nat_labels = 3 * np.ones((nat_len,1), dtype=np.int8)\n",
    "# spe_labels = 2 * np.ones((spe_len,1), dtype=np.int8)\n",
    "# print(spe_labels.shape)\n",
    "# acf_feats = np.vstack((mac_features, mus_features, spe_features, nat_features))\n",
    "# acf_labels = np.vstack((mac_labels, mus_labels, spe_labels, nat_labels))\n",
    "# print(acf_feats.shape)\n",
    "# print(acf_labels.shape)\n",
    "#print(acf_feats[:10, :])\n",
    "#rand_idx = np.random.choice(np.arange(acf_feats.shape[0]), size=acf_feats.shape[0], replace=False)\n",
    "# acf_feats = acf_feats[rand_idx, :]\n",
    "# acf_labels = acf_labels[rand_idx, : ]\n",
    "# train_test_split = 0.8\n",
    "# split_idx = int(train_test_split * acf_feats.shape[0])\n",
    "# print(split_idx)\n",
    "# train_set = acf_feats[:split_idx, :]\n",
    "# test_set = acf_feats[split_idx:, :]\n",
    "# train_labels = acf_labels[:split_idx, :]\n",
    "# test_labels = acf_labels[split_idx:, :]\n",
    "# print(train_set.shape)\n",
    "# print(train_labels.shape)\n",
    "# print(test_set.shape)\n",
    "# print(test_labels.shape)\n",
    "# np.savetxt('acf_train.csv', train_set)\n",
    "# np.savetxt('acf_train_labels.csv', train_labels)\n",
    "# np.savetxt('acf_test.csv', test_set)\n",
    "# np.savetxt('acf_test_labels.csv', test_labels"
   ]
  },
  {
   "cell_type": "code",
   "execution_count": 10,
   "metadata": {},
   "outputs": [],
   "source": [
    "# 0 -> speech + music, 1-> nature + machine\n",
    "spe_mus_labels = np.zeros((spe_len+mus_len,1), dtype=np.int8)\n",
    "nat_mac_labels = np.ones((nat_len+mac_len, 1), dtype=np.int8)\n",
    "#0 ->  speech 1-> music 2-> nature 3-> machine\n",
    "spe_labels = np.zeros((spe_len,1), dtype=np.int8)\n",
    "mus_labels = np.ones((mus_len,1), dtype=np.int8)\n",
    "nat_labels = np.full((nat_len,1), 2, dtype=np.int8)\n",
    "mac_labels = np.full((mac_len,1), 3, dtype=np.int8)"
   ]
  },
  {
   "cell_type": "code",
   "execution_count": 11,
   "metadata": {},
   "outputs": [
    {
     "name": "stdout",
     "output_type": "stream",
     "text": [
      "(2917154, 3)\n",
      "(2917154, 1)\n",
      "(2917154, 1)\n"
     ]
    }
   ],
   "source": [
    "two_class_acf_feats = np.vstack((spe_features, mus_features, nat_features, mac_features))\n",
    "two_class_acf_labels = np.vstack((spe_mus_labels, nat_mac_labels))\n",
    "four_class_acf_labels = np.vstack((spe_labels, mus_labels, nat_labels, mac_labels))\n",
    "print(two_class_acf_feats.shape)\n",
    "print(two_class_acf_labels.shape)\n",
    "print(four_class_acf_labels.shape)"
   ]
  },
  {
   "cell_type": "code",
   "execution_count": 11,
   "metadata": {},
   "outputs": [
    {
     "name": "stdout",
     "output_type": "stream",
     "text": [
      "[[0]\n",
      " [0]\n",
      " [0]\n",
      " [0]\n",
      " [0]\n",
      " [0]\n",
      " [0]\n",
      " [0]\n",
      " [0]\n",
      " [0]]\n"
     ]
    }
   ],
   "source": [
    "print(two_class_acf_labels[19995:20005])"
   ]
  },
  {
   "cell_type": "code",
   "execution_count": 12,
   "metadata": {},
   "outputs": [],
   "source": [
    "rand_idx = np.random.choice(np.arange(two_class_acf_feats.shape[0]), size=two_class_acf_feats.shape[0], replace=False)\n",
    "two_class_acf_feats = two_class_acf_feats[rand_idx, : ]\n",
    "two_class_acf_labels = two_class_acf_labels[rand_idx, : ]\n",
    "four_class_acf_labels = four_class_acf_labels[rand_idx, :]"
   ]
  },
  {
   "cell_type": "code",
   "execution_count": 13,
   "metadata": {},
   "outputs": [
    {
     "name": "stdout",
     "output_type": "stream",
     "text": [
      "2625438\n"
     ]
    }
   ],
   "source": [
    "train_test_split = 0.9\n",
    "split_idx = int(train_test_split * two_class_acf_feats.shape[0])\n",
    "print(split_idx)\n",
    "train_set = two_class_acf_feats[:split_idx, :]\n",
    "test_set = two_class_acf_feats[split_idx:, :]\n",
    "train_labels = two_class_acf_labels[:split_idx, :]\n",
    "test_labels = two_class_acf_labels[split_idx:, :]\n",
    "test_deep_labels = four_class_acf_labels[split_idx:, :]"
   ]
  },
  {
   "cell_type": "code",
   "execution_count": 29,
   "metadata": {},
   "outputs": [
    {
     "name": "stdout",
     "output_type": "stream",
     "text": [
      "(2625438, 1)\n",
      "(2625438, 1)\n",
      "(2625438, 3)\n",
      "(291716, 1)\n",
      "(291716, 3)\n",
      "[[1]\n",
      " [1]\n",
      " [0]\n",
      " [1]\n",
      " [0]\n",
      " [0]\n",
      " [1]\n",
      " [1]\n",
      " [1]\n",
      " [1]]\n",
      "[[3]\n",
      " [2]\n",
      " [2]\n",
      " [0]\n",
      " [2]\n",
      " [3]\n",
      " [2]\n",
      " [0]\n",
      " [3]\n",
      " [0]]\n"
     ]
    }
   ],
   "source": [
    "print(train_labels.shape)\n",
    "print(train_deep_labels.shape)\n",
    "print(train_set.shape)\n",
    "print(test_labels.shape)\n",
    "print(test_set.shape)\n",
    "print(train_labels[20:30])\n",
    "print(test_deep_labels[20:30])"
   ]
  },
  {
   "cell_type": "code",
   "execution_count": 14,
   "metadata": {},
   "outputs": [],
   "source": [
    "dest_path = os.path.join('sets_labels','ACF','1hr', 'clean')"
   ]
  },
  {
   "cell_type": "code",
   "execution_count": 15,
   "metadata": {},
   "outputs": [],
   "source": [
    "np.savetxt(os.path.join(dest_path, 'train_set_v3.csv'), train_set)\n",
    "np.savetxt(os.path.join(dest_path,'train_labels_v3.csv'), train_labels)\n",
    "np.savetxt(os.path.join(dest_path,'test_set_v3.csv'), test_set)\n",
    "np.savetxt(os.path.join(dest_path,'test_labels_v3.csv'), test_labels)\n",
    "np.savetxt(os.path.join(dest_path,'test_deep_labels_v3.csv'), test_deep_labels)"
   ]
  },
  {
   "cell_type": "code",
   "execution_count": null,
   "metadata": {},
   "outputs": [],
   "source": [
    "print(two_class_acf_labels[:10])"
   ]
  },
  {
   "cell_type": "code",
   "execution_count": null,
   "metadata": {},
   "outputs": [],
   "source": [
    "x = np.array([12,2,9,5,4,1,3,7,11,3,6])\n",
    "print(np.argmax(x[2:]))"
   ]
  },
  {
   "cell_type": "code",
   "execution_count": 33,
   "metadata": {},
   "outputs": [
    {
     "data": {
      "text/plain": [
       "array([[1, 0, 0, 0],\n",
       "       [0, 1, 0, 0],\n",
       "       [2, 1, 0, 0],\n",
       "       [0, 1, 0, 0]], dtype=int64)"
      ]
     },
     "execution_count": 33,
     "metadata": {},
     "output_type": "execute_result"
    }
   ],
   "source": [
    "from sklearn.metrics import confusion_matrix\n",
    "y_true = [2, 0, 1, 2, 2, 3]\n",
    "y_pred = [0, 0, 1, 1, 0, 1]\n",
    "confusion_matrix(y_true, y_pred)"
   ]
  },
  {
   "cell_type": "code",
   "execution_count": null,
   "metadata": {},
   "outputs": [],
   "source": []
  }
 ],
 "metadata": {
  "kernelspec": {
   "display_name": "Python 3",
   "language": "python",
   "name": "python3"
  },
  "language_info": {
   "codemirror_mode": {
    "name": "ipython",
    "version": 3
   },
   "file_extension": ".py",
   "mimetype": "text/x-python",
   "name": "python",
   "nbconvert_exporter": "python",
   "pygments_lexer": "ipython3",
   "version": "3.6.8"
  }
 },
 "nbformat": 4,
 "nbformat_minor": 2
}
