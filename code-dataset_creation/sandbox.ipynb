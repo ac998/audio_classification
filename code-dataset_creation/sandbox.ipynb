{
 "cells": [
  {
   "cell_type": "code",
   "execution_count": 1,
   "metadata": {},
   "outputs": [],
   "source": [
    "import numpy as np\n",
    "import os "
   ]
  },
  {
   "cell_type": "code",
   "execution_count": 3,
   "metadata": {},
   "outputs": [],
   "source": [
    "raw_audio_duration_per_category = '1hr'\n",
    "chunk_length = 500\n",
    "categories = ['speech', 'music', 'machine', 'nature']\n",
    "#src_path = os.path.join('features', 'MFCC', raw_audio_duration_per_category, str(chunk_length)+'ms'), \n",
    "#                        '{}_{}_mfcc_{}.csv'.format(raw_audio_duration, category, str(chunk_length)+'ms')\n",
    "dest_path = os.path.join('sets_labels', 'MFCC', raw_audio_duration_per_category)"
   ]
  },
  {
   "cell_type": "code",
   "execution_count": 14,
   "metadata": {},
   "outputs": [
    {
     "name": "stdout",
     "output_type": "stream",
     "text": [
      "features\\MFCC\\1hr\\500ms\\1hr_machine_mfcc_500ms.csv\n",
      "(7200, 26)\n"
     ]
    }
   ],
   "source": [
    "machine_file = os.path.join('features', 'MFCC', raw_audio_duration_per_category, str(chunk_length)+'ms', '{}_machine_mfcc_{}.csv'.format(raw_audio_duration_per_category, str(chunk_length)+'ms'))\n",
    "print(machine_file)\n",
    "mach_mfcc = np.loadtxt(machine_file)\n",
    "print(mach_mfcc.shape)"
   ]
  },
  {
   "cell_type": "code",
   "execution_count": null,
   "metadata": {},
   "outputs": [],
   "source": [
    "machine_file = os.path.join('features', 'MFCC', raw_audio_duration_per_category, str(chunk_length)+'ms', '{}_machine_mfcc_{}.csv'.format(raw_audio_duration_per_category, str(chunk_length)+'ms'))\n",
    "print(machine_file)\n",
    "mach_mfcc = np.loadtxt(machine_file)\n",
    "print(mach_mfcc.shape)"
   ]
  }
 ],
 "metadata": {
  "kernelspec": {
   "display_name": "Python 3",
   "language": "python",
   "name": "python3"
  },
  "language_info": {
   "codemirror_mode": {
    "name": "ipython",
    "version": 3
   },
   "file_extension": ".py",
   "mimetype": "text/x-python",
   "name": "python",
   "nbconvert_exporter": "python",
   "pygments_lexer": "ipython3",
   "version": "3.6.8"
  }
 },
 "nbformat": 4,
 "nbformat_minor": 2
}
